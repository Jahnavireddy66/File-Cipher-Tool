{
  "nbformat": 4,
  "nbformat_minor": 0,
  "metadata": {
    "colab": {
      "provenance": []
    },
    "kernelspec": {
      "name": "python3",
      "display_name": "Python 3"
    },
    "language_info": {
      "name": "python"
    }
  },
  "cells": [
    {
      "cell_type": "code",
      "execution_count": null,
      "metadata": {
        "colab": {
          "base_uri": "https://localhost:8080/"
        },
        "id": "ZT1lxsuuuI6Y",
        "outputId": "7821361d-937e-42c5-f74c-f8b13f7e9677"
      },
      "outputs": [
        {
          "output_type": "stream",
          "name": "stdout",
          "text": [
            "\n",
            "--- Caesar Cipher Tool ---\n",
            "1: Encrypt\n",
            "2: Decrypt\n",
            "3: Exit\n",
            "Choose: 1\n",
            "Enter text to encrypt: hello jahnavi\n",
            "Enter shift key (e.g., 3): 4\n",
            "Encrypted: lipps nelrezm\n",
            "\n",
            "--- Caesar Cipher Tool ---\n",
            "1: Encrypt\n",
            "2: Decrypt\n",
            "3: Exit\n",
            "Choose: 2\n",
            "Enter text to decrypt: lipps nelrezm\n",
            "Enter shift key (used during encryption): -4\n",
            "Decrypted: pmttw ripvidq\n",
            "\n",
            "--- Caesar Cipher Tool ---\n",
            "1: Encrypt\n",
            "2: Decrypt\n",
            "3: Exit\n",
            "Choose: 2\n",
            "Enter text to decrypt: lipps nelrezm\n",
            "Enter shift key (used during encryption): 4\n",
            "Decrypted: hello jahnavi\n",
            "\n",
            "--- Caesar Cipher Tool ---\n"
          ]
        }
      ],
      "source": [
        "def encrypt(text, shift):\n",
        "    encrypted = \"\"\n",
        "    for char in text:\n",
        "        if char.isalpha():\n",
        "            # Shift within A-Z or a-z\n",
        "            base = ord('A') if char.isupper() else ord('a')\n",
        "            encrypted += chr((ord(char) - base + shift) % 26 + base)\n",
        "        else:\n",
        "            encrypted += char  # keep punctuation and spaces\n",
        "    return encrypted\n",
        "\n",
        "def decrypt(cipher, shift):\n",
        "    return encrypt(cipher, -shift)\n",
        "\n",
        "# --- Main ---\n",
        "while True:\n",
        "    print(\"\\n--- Caesar Cipher Tool ---\")\n",
        "    choice = input(\"1: Encrypt\\n2: Decrypt\\n3: Exit\\nChoose: \")\n",
        "\n",
        "    if choice == '1':\n",
        "        text = input(\"Enter text to encrypt: \")\n",
        "        key = int(input(\"Enter shift key (e.g., 3): \"))\n",
        "        result = encrypt(text, key)\n",
        "        print(\"Encrypted:\", result)\n",
        "\n",
        "    elif choice == '2':\n",
        "        cipher = input(\"Enter text to decrypt: \")\n",
        "        key = int(input(\"Enter shift key (used during encryption): \"))\n",
        "        result = decrypt(cipher, key)\n",
        "        print(\"Decrypted:\", result)\n",
        "\n",
        "    elif choice == '3':\n",
        "        print(\"Goodbye!\")\n",
        "        break\n",
        "\n",
        "    else:\n",
        "        print(\"Invalid option. Try again.\")\n"
      ]
    }
  ]
}